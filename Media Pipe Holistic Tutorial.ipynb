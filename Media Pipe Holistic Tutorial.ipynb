{
 "cells": [
  {
   "cell_type": "markdown",
   "metadata": {},
   "source": [
    "# 0. Install and Import Dependencies"
   ]
  },
  {
   "cell_type": "code",
   "execution_count": 14,
   "metadata": {},
   "outputs": [
    {
     "output_type": "stream",
     "name": "stdout",
     "text": [
      "Requirement already satisfied: mediapipe in c:\\users\\dqj11\\anaconda3\\lib\\site-packages (0.8.6)\nRequirement already satisfied: opencv-python in c:\\users\\dqj11\\anaconda3\\lib\\site-packages (4.5.3.56)\nRequirement already satisfied: protobuf>=3.11.4 in c:\\users\\dqj11\\anaconda3\\lib\\site-packages (from mediapipe) (3.15.3)\nRequirement already satisfied: wheel in c:\\users\\dqj11\\anaconda3\\lib\\site-packages (from mediapipe) (0.35.1)\nRequirement already satisfied: numpy in c:\\users\\dqj11\\anaconda3\\lib\\site-packages (from mediapipe) (1.19.2)\nRequirement already satisfied: attrs>=19.1.0 in c:\\users\\dqj11\\anaconda3\\lib\\site-packages (from mediapipe) (20.3.0)\nRequirement already satisfied: six in c:\\users\\dqj11\\anaconda3\\lib\\site-packages (from mediapipe) (1.15.0)\nRequirement already satisfied: opencv-contrib-python in c:\\users\\dqj11\\anaconda3\\lib\\site-packages (from mediapipe) (4.5.3.56)\nRequirement already satisfied: matplotlib in c:\\users\\dqj11\\anaconda3\\lib\\site-packages (from mediapipe) (3.3.2)\nRequirement already satisfied: absl-py in c:\\users\\dqj11\\anaconda3\\lib\\site-packages (from mediapipe) (0.11.0)\nRequirement already satisfied: python-dateutil>=2.1 in c:\\users\\dqj11\\anaconda3\\lib\\site-packages (from matplotlib->mediapipe) (2.8.1)\nRequirement already satisfied: pyparsing!=2.0.4,!=2.1.2,!=2.1.6,>=2.0.3 in c:\\users\\dqj11\\anaconda3\\lib\\site-packages (from matplotlib->mediapipe) (2.4.7)\nRequirement already satisfied: kiwisolver>=1.0.1 in c:\\users\\dqj11\\anaconda3\\lib\\site-packages (from matplotlib->mediapipe) (1.3.0)\nRequirement already satisfied: cycler>=0.10 in c:\\users\\dqj11\\anaconda3\\lib\\site-packages (from matplotlib->mediapipe) (0.10.0)\nRequirement already satisfied: pillow>=6.2.0 in c:\\users\\dqj11\\anaconda3\\lib\\site-packages (from matplotlib->mediapipe) (8.0.1)\nRequirement already satisfied: certifi>=2020.06.20 in c:\\users\\dqj11\\anaconda3\\lib\\site-packages (from matplotlib->mediapipe) (2020.6.20)\n"
     ]
    }
   ],
   "source": [
    "!pip install mediapipe opencv-python"
   ]
  },
  {
   "cell_type": "code",
   "execution_count": 15,
   "metadata": {},
   "outputs": [],
   "source": [
    "import mediapipe as mp\n",
    "import cv2\n",
    "import time"
   ]
  },
  {
   "cell_type": "code",
   "execution_count": 16,
   "metadata": {},
   "outputs": [],
   "source": [
    "mp_drawing = mp.solutions.drawing_utils\n",
    "mp_holistic = mp.solutions.holistic"
   ]
  },
  {
   "cell_type": "markdown",
   "metadata": {},
   "source": [
    "# 1. Get Realtime Webcam Feed"
   ]
  },
  {
   "cell_type": "code",
   "execution_count": null,
   "metadata": {},
   "outputs": [],
   "source": [
    "cap = cv2.VideoCapture(0)\n",
    "while cap.isOpened():\n",
    "    ret, frame = cap.read()\n",
    "    cv2.imshow('Raw Webcam Feed', frame)\n",
    "    \n",
    "    if cv2.waitKey(10) & 0xFF == ord('q'):\n",
    "        break\n",
    "\n",
    "cap.release()\n",
    "cv2.destroyAllWindows()"
   ]
  },
  {
   "cell_type": "code",
   "execution_count": null,
   "metadata": {},
   "outputs": [],
   "source": [
    "cap.release()\n",
    "cv2.destroyAllWindows()"
   ]
  },
  {
   "cell_type": "markdown",
   "metadata": {},
   "source": [
    "# 2. Make Detections from Feed\n",
    "1. Detect Facial Landmarks \n",
    "2. Detect Hand Poses\n",
    "3. Detect Body Poses"
   ]
  },
  {
   "cell_type": "code",
   "execution_count": 19,
   "metadata": {},
   "outputs": [],
   "source": [
    "cap = cv2.VideoCapture(0)\n",
    "# Initiate holistic model\n",
    "\n",
    "prev_frame_time = 0\n",
    "\n",
    "new_frame_time = 0\n",
    "\n",
    "with mp_holistic.Holistic(min_detection_confidence=0.5, min_tracking_confidence=0.5) as holistic:\n",
    "    \n",
    "    while cap.isOpened():\n",
    "        ret, frame = cap.read()\n",
    "        \n",
    "        # Recolor Feed\n",
    "        image = cv2.cvtColor(frame, cv2.COLOR_BGR2RGB)\n",
    "        # Make Detections\n",
    "        results = holistic.process(image)\n",
    "        # print(results.face_landmarks)\n",
    "        \n",
    "        # face_landmarks, pose_landmarks, left_hand_landmarks, right_hand_landmarks\n",
    "        \n",
    "        # Recolor image back to BGR for rendering\n",
    "        image = cv2.cvtColor(image, cv2.COLOR_RGB2BGR)\n",
    "        \n",
    "        # Draw face landmarks\n",
    "        mp_drawing.draw_landmarks(image, results.face_landmarks, mp_holistic.FACE_CONNECTIONS)\n",
    "        \n",
    "        # Right hand\n",
    "        mp_drawing.draw_landmarks(image, results.right_hand_landmarks, mp_holistic.HAND_CONNECTIONS)\n",
    "\n",
    "        # Left Hand\n",
    "        mp_drawing.draw_landmarks(image, results.left_hand_landmarks, mp_holistic.HAND_CONNECTIONS)\n",
    "\n",
    "        # Pose Detections\n",
    "        mp_drawing.draw_landmarks(image, results.pose_landmarks, mp_holistic.POSE_CONNECTIONS)\n",
    "                        \n",
    "        # cv2.imshow('Raw Webcam Feed', image)\n",
    "\n",
    "        gray = image\n",
    "\n",
    "            # resizing the frame size according to our need\n",
    "        gray = cv2.resize(gray, (500, 300))\n",
    "    \n",
    "        # font which we will be using to display FPS\n",
    "        font = cv2.FONT_HERSHEY_SIMPLEX\n",
    "        # time when we finish processing for this frame\n",
    "        new_frame_time = time.time()\n",
    "    \n",
    "        # Calculating the fps\n",
    "    \n",
    "        # fps will be number of frame processed in given time frame\n",
    "        # since their will be most of time error of 0.001 second\n",
    "        # we will be subtracting it to get more accurate result\n",
    "        fps = 1/(new_frame_time-prev_frame_time)\n",
    "        prev_frame_time = new_frame_time\n",
    "    \n",
    "        # converting the fps into integer\n",
    "        fps = int(fps)\n",
    "    \n",
    "        # converting the fps to string so that we can display it on frame\n",
    "        # by using putText function\n",
    "        fps = str(fps)\n",
    "    \n",
    "        # putting the FPS count on the frame\n",
    "        cv2.putText(gray, fps, (7, 70), font, 3, (100, 255, 0), 3, cv2.LINE_AA)\n",
    "    \n",
    "        # displaying the frame with fps\n",
    "        # cv2.imshow('frame', gray)\n",
    "        cv2.imshow('Raw Webcam Feed', image)\n",
    "        cv2.imshow('Raw Webcam Feed', gray)\n",
    "\n",
    "        # press Q to close the webcam\n",
    "\n",
    "        if cv2.waitKey(10) & 0xFF == ord('q'):\n",
    "            break\n",
    "\n",
    "cap.release()\n",
    "cv2.destroyAllWindows()"
   ]
  },
  {
   "cell_type": "code",
   "execution_count": null,
   "metadata": {},
   "outputs": [],
   "source": [
    "mp_holistic.POSE_CONNECTIONS"
   ]
  }
 ],
 "metadata": {
  "kernelspec": {
   "name": "python3",
   "display_name": "Python 3.8.5 64-bit ('base': conda)"
  },
  "language_info": {
   "codemirror_mode": {
    "name": "ipython",
    "version": 3
   },
   "file_extension": ".py",
   "mimetype": "text/x-python",
   "name": "python",
   "nbconvert_exporter": "python",
   "pygments_lexer": "ipython3",
   "version": "3.8.5"
  },
  "interpreter": {
   "hash": "e93670ce28c6b6438e88c5eee9346ee7b7aebb3ca198166cf7c5d21ab4c0149e"
  }
 },
 "nbformat": 4,
 "nbformat_minor": 2
}